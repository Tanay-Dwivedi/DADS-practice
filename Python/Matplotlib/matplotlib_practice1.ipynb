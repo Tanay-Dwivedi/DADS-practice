{
 "cells": [
  {
   "cell_type": "markdown",
   "id": "15fdfcb5-46e8-46b6-ad16-9b493e0b2c1d",
   "metadata": {},
   "source": [
    "# Matplotlib Practice"
   ]
  },
  {
   "cell_type": "code",
   "execution_count": 2,
   "id": "451194c2-79a9-49d0-a8d4-4bc88fc516ce",
   "metadata": {},
   "outputs": [],
   "source": [
    "import matplotlib as mb"
   ]
  },
  {
   "cell_type": "code",
   "execution_count": null,
   "id": "46a0d1c3-3ece-421b-9ca9-c6e9463aa647",
   "metadata": {},
   "outputs": [],
   "source": []
  }
 ],
 "metadata": {
  "kernelspec": {
   "display_name": "Python 3 (ipykernel)",
   "language": "python",
   "name": "python3"
  },
  "language_info": {
   "codemirror_mode": {
    "name": "ipython",
    "version": 3
   },
   "file_extension": ".py",
   "mimetype": "text/x-python",
   "name": "python",
   "nbconvert_exporter": "python",
   "pygments_lexer": "ipython3",
   "version": "3.12.1"
  }
 },
 "nbformat": 4,
 "nbformat_minor": 5
}
