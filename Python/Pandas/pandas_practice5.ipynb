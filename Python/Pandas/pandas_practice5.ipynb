{
 "cells": [
  {
   "cell_type": "markdown",
   "id": "cbd4d08a-8938-4f0d-b330-3f22b3e6d652",
   "metadata": {},
   "source": [
    "# Read data from SQL"
   ]
  },
  {
   "cell_type": "code",
   "execution_count": null,
   "id": "0f084446-c913-405c-b103-4e02f2a62672",
   "metadata": {},
   "outputs": [],
   "source": [
    "import pandas as pd\n",
    "import sqlalchemy"
   ]
  },
  {
   "cell_type": "code",
   "execution_count": null,
   "id": "1a7c4960-2f41-42b6-9a0a-d059fd719aa2",
   "metadata": {},
   "outputs": [],
   "source": [
    "engine = sqlalchemy.create_engine('mysql+pymysql://root:@localhost:3306/application')"
   ]
  },
  {
   "cell_type": "code",
   "execution_count": null,
   "id": "fdb973f3-619d-4c2a-8705-6a1fc0e4c5c7",
   "metadata": {},
   "outputs": [],
   "source": [
    "df = pd.read_sql_table('customers',engine)\n",
    "df"
   ]
  },
  {
   "cell_type": "code",
   "execution_count": null,
   "id": "8f75c8ed-6dc1-4797-83b6-9896d3d4d1ee",
   "metadata": {},
   "outputs": [],
   "source": []
  }
 ],
 "metadata": {
  "kernelspec": {
   "display_name": "Python 3 (ipykernel)",
   "language": "python",
   "name": "python3"
  },
  "language_info": {
   "codemirror_mode": {
    "name": "ipython",
    "version": 3
   },
   "file_extension": ".py",
   "mimetype": "text/x-python",
   "name": "python",
   "nbconvert_exporter": "python",
   "pygments_lexer": "ipython3",
   "version": "3.12.1"
  }
 },
 "nbformat": 4,
 "nbformat_minor": 5
}
