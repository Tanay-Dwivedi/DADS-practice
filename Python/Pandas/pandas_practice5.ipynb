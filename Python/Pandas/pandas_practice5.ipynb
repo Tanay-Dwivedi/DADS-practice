{
 "cells": [
  {
   "cell_type": "markdown",
   "id": "cbd4d08a-8938-4f0d-b330-3f22b3e6d652",
   "metadata": {},
   "source": [
    "# Read data from SQL"
   ]
  },
  {
   "cell_type": "code",
   "execution_count": null,
   "id": "0f084446-c913-405c-b103-4e02f2a62672",
   "metadata": {},
   "outputs": [],
   "source": [
    "import pandas as pd\n",
    "import sqlalchemy"
   ]
  },
  {
   "cell_type": "code",
   "execution_count": null,
   "id": "1a7c4960-2f41-42b6-9a0a-d059fd719aa2",
   "metadata": {},
   "outputs": [],
   "source": [
    "engine = sqlalchemy.create_engine('mysql+pymysql://root:@localhost:3306/application')"
   ]
  },
  {
   "cell_type": "code",
   "execution_count": null,
   "id": "fdb973f3-619d-4c2a-8705-6a1fc0e4c5c7",
   "metadata": {},
   "outputs": [],
   "source": [
    "df = pd.read_sql_table('customers',engine)\n",
    "df"
   ]
  },
  {
   "cell_type": "code",
   "execution_count": null,
   "id": "8f75c8ed-6dc1-4797-83b6-9896d3d4d1ee",
   "metadata": {},
   "outputs": [],
   "source": [
    "df = pd.read_sql_table('customers', engine, columns=[\"name\"])\n",
    "df"
   ]
  },
  {
   "cell_type": "code",
   "execution_count": null,
   "id": "326cb2b0-f667-41b5-a639-f66c58f76563",
   "metadata": {},
   "outputs": [],
   "source": [
    "df = pd.read_sql_query(\"select id,name from customers\",engine)\n",
    "df"
   ]
  },
  {
   "cell_type": "code",
   "execution_count": null,
   "id": "83b7a5e6-cd36-4c3f-a9fb-727a8dfc367c",
   "metadata": {},
   "outputs": [],
   "source": [
    "query = '''\n",
    " SELECT customers.name, customers.phone_number, orders.name, orders.amount\n",
    " FROM customers INNER JOIN orders\n",
    " ON customers.id=orders.customer_id\n",
    "'''\n",
    "df = pd.read_sql_query(query,engine)\n",
    "df"
   ]
  },
  {
   "cell_type": "code",
   "execution_count": null,
   "id": "32632a29-95b8-4e40-9813-d61c7b3606a6",
   "metadata": {},
   "outputs": [],
   "source": [
    "query = '''\n",
    " SELECT customers.name, customers.phone_number, orders.name, orders.amount\n",
    " FROM customers INNER JOIN orders\n",
    " ON customers.id=orders.customer_id\n",
    "'''\n",
    "pd.read_sql(query,engine)"
   ]
  },
  {
   "cell_type": "code",
   "execution_count": null,
   "id": "64b1610c-55d4-4c48-8c9f-6dcac40e5df4",
   "metadata": {},
   "outputs": [],
   "source": [
    "pd.read_sql(\"customers\",engine)"
   ]
  },
  {
   "cell_type": "code",
   "execution_count": null,
   "id": "fc921546-7d92-4209-93a8-6a651f37e646",
   "metadata": {},
   "outputs": [],
   "source": [
    "df = pd.read_csv(\"customers.csv\")\n",
    "df"
   ]
  },
  {
   "cell_type": "code",
   "execution_count": null,
   "id": "8f833701-8d99-449d-aee8-0abbea96f31d",
   "metadata": {},
   "outputs": [],
   "source": [
    "df.rename(columns={\n",
    "    'Customer Name': 'name',\n",
    "    'Customer Phone': 'phone_number'\n",
    "}, inplace=True)\n",
    "df"
   ]
  },
  {
   "cell_type": "code",
   "execution_count": null,
   "id": "b585469b-b220-4a5c-9ef6-ebbbf3d3f18c",
   "metadata": {},
   "outputs": [],
   "source": [
    "df.to_sql(\n",
    "    name='customers', # database table name\n",
    "    con=engine,\n",
    "    if_exists='append',\n",
    "    index=False\n",
    ")"
   ]
  },
  {
   "cell_type": "markdown",
   "id": "1052cd7a-f054-410d-8de8-7320e91b4800",
   "metadata": {},
   "source": [
    "# Handle Large Datasets In Pandas | Memory Optimization Tips For Pandas\n",
    "\n",
    "[ways to reducd memory consumption](https://pythonspeed.com/articles/pandas-load-less-data)"
   ]
  },
  {
   "cell_type": "code",
   "execution_count": null,
   "id": "13054577-ffbd-422f-88e1-8a2b629830e9",
   "metadata": {},
   "outputs": [],
   "source": []
  }
 ],
 "metadata": {
  "kernelspec": {
   "display_name": "Python 3 (ipykernel)",
   "language": "python",
   "name": "python3"
  },
  "language_info": {
   "codemirror_mode": {
    "name": "ipython",
    "version": 3
   },
   "file_extension": ".py",
   "mimetype": "text/x-python",
   "name": "python",
   "nbconvert_exporter": "python",
   "pygments_lexer": "ipython3",
   "version": "3.12.1"
  }
 },
 "nbformat": 4,
 "nbformat_minor": 5
}
