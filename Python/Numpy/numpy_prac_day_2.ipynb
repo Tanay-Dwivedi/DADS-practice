{
 "cells": [
  {
   "cell_type": "markdown",
   "metadata": {},
   "source": [
    "## Numpy Practice Day 2"
   ]
  },
  {
   "cell_type": "code",
   "execution_count": 1,
   "metadata": {},
   "outputs": [
    {
     "name": "stdout",
     "output_type": "stream",
     "text": [
      "Day 2 of Numpy\n"
     ]
    }
   ],
   "source": [
    "print(\"Day 2 of Numpy\")"
   ]
  },
  {
   "cell_type": "markdown",
   "metadata": {},
   "source": [
    "## Questions\n",
    "\n",
    "31. Find the indices of non-zero elements in a NumPy array.\n",
    "32. Count the number of occurrences of a specific value in a NumPy array.\n",
    "33. Calculate the cumulative sum of elements in a NumPy array.\n",
    "34. Reverse the order of elements in a NumPy array.\n",
    "35. Calculate the standard deviation of elements in a NumPy array.\n",
    "36. Normalize a NumPy array.\n",
    "37. Compute the absolute values of elements in a NumPy array.\n",
    "38. Perform element-wise multiplication of two NumPy arrays.\n",
    "39. Find the index of the maximum element along a specific axis in a NumPy array.\n",
    "40. Check if all elements in a NumPy array are non-zero.\n",
    "41. Compute the mode of elements in a NumPy array.\n",
    "42. Compute the median of elements in a NumPy array.\n",
    "43. Replace missing values in a NumPy array with a specific value.\n",
    "44. Find the percentile of elements in a NumPy array.\n",
    "45. Compute the product of elements in a NumPy array.\n",
    "46. Flatten a 2D NumPy array into a 1D array.\n",
    "47. Find the correlation coefficient between two NumPy arrays.\n",
    "48. Round the elements of a NumPy array to the nearest integer.\n",
    "49. Sort a NumPy array in descending order.\n",
    "50. Shuffle the elements of a NumPy array.\n",
    "51. Check if any element in a NumPy array satisfies a specific condition.\n",
    "52. Compute the variance of elements in a NumPy array.\n",
    "53. Fill the diagonal of a 2D NumPy array with a specific value.\n",
    "54. Compute the cross product of two NumPy arrays.\n",
    "55. Check if a value exists in a NumPy array.\n",
    "56. Extract elements at specific indices from a NumPy array.\n",
    "57. Convert angles from degrees to radians using NumPy.\n",
    "58. Calculate the determinant of a square NumPy array.\n",
    "59. Compute the rank of a NumPy array.\n",
    "60. Compute the eigenvalues and eigenvectors of a square NumPy array.\n"
   ]
  },
  {
   "cell_type": "markdown",
   "metadata": {},
   "source": []
  }
 ],
 "metadata": {
  "kernelspec": {
   "display_name": "Python 3",
   "language": "python",
   "name": "python3"
  },
  "language_info": {
   "codemirror_mode": {
    "name": "ipython",
    "version": 3
   },
   "file_extension": ".py",
   "mimetype": "text/x-python",
   "name": "python",
   "nbconvert_exporter": "python",
   "pygments_lexer": "ipython3",
   "version": "3.12.1"
  }
 },
 "nbformat": 4,
 "nbformat_minor": 2
}
