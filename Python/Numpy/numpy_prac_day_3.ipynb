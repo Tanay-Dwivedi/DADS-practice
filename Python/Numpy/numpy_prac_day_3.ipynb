{
 "cells": [
  {
   "cell_type": "markdown",
   "metadata": {},
   "source": [
    "## Numpy Practice Day 3"
   ]
  },
  {
   "cell_type": "code",
   "execution_count": 2,
   "metadata": {},
   "outputs": [
    {
     "name": "stdout",
     "output_type": "stream",
     "text": [
      "numpy day 3\n"
     ]
    }
   ],
   "source": [
    "print(\"numpy day 3\")"
   ]
  },
  {
   "cell_type": "markdown",
   "metadata": {},
   "source": [
    "## Questions\n",
    "\n",
    "\n",
    "61. Calculate the Kronecker product of two NumPy arrays.\n",
    "62. Create a NumPy array with a specified range and step size.\n",
    "63. Compute the L2 norm of a NumPy array.\n",
    "64. Check if a NumPy array contains only finite numbers.\n",
    "65. Calculate the inverse of a square NumPy array.\n",
    "66. Compute the cumulative product of elements in a NumPy array.\n",
    "67. Create a NumPy array with random values from a specific distribution.\n",
    "68. Check if two NumPy arrays have the same shape.\n",
    "69. Find the index of the minimum and maximum elements in a NumPy array.\n",
    "70. Compute the exponential of each element in a NumPy array.\n",
    "71. Compute the natural logarithm of each element in a NumPy array.\n",
    "72. Calculate the bincount of a NumPy array.\n",
    "73. Compute the sign of each element in a NumPy array.\n",
    "74. Compute the floor division of two NumPy arrays.\n",
    "75. Create a NumPy array with evenly spaced values within a specified range.\n",
    "76. Compute the absolute difference between two NumPy arrays.\n",
    "77. Compute the arctangent of each element in a NumPy array.\n",
    "78. Calculate the greatest common divisor (gcd) of elements in a NumPy array.\n",
    "79. Compute the inner product of two NumPy arrays.\n",
    "80. Create a NumPy array with repeated elements.\n",
    "81. Compute the element-wise absolute difference between two NumPy arrays.\n",
    "82. Calculate the cumulative maximum of elements in a NumPy array.\n",
    "83. Compute the hyperbolic sine of each element in a NumPy array.\n",
    "84. Check if all elements in a NumPy array are finite.\n",
    "85. Create a NumPy array with values spaced evenly on a logarithmic scale.\n",
    "86. Compute the cumulative minimum of elements in a NumPy array.\n",
    "87. Calculate the arccosine of each element in a NumPy array.\n",
    "88. Check if any element in a NumPy array is NaN.\n",
    "89. Compute the Kronecker delta of two NumPy arrays.\n",
    "90. Create a NumPy array with random values from a specific range and shape.\n"
   ]
  },
  {
   "cell_type": "markdown",
   "metadata": {},
   "source": []
  }
 ],
 "metadata": {
  "kernelspec": {
   "display_name": "Python 3",
   "language": "python",
   "name": "python3"
  },
  "language_info": {
   "codemirror_mode": {
    "name": "ipython",
    "version": 3
   },
   "file_extension": ".py",
   "mimetype": "text/x-python",
   "name": "python",
   "nbconvert_exporter": "python",
   "pygments_lexer": "ipython3",
   "version": "3.12.1"
  }
 },
 "nbformat": 4,
 "nbformat_minor": 2
}
