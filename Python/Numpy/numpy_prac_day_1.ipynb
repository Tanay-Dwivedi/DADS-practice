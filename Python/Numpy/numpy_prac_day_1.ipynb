{
 "cells": [
  {
   "cell_type": "markdown",
   "metadata": {},
   "source": [
    "## Numpy Practice Day 1"
   ]
  },
  {
   "cell_type": "code",
   "execution_count": 2,
   "metadata": {},
   "outputs": [],
   "source": [
    "import numpy as np"
   ]
  },
  {
   "cell_type": "code",
   "execution_count": 22,
   "metadata": {},
   "outputs": [
    {
     "name": "stdout",
     "output_type": "stream",
     "text": [
      "[[b'1' b'2' b'3' b'4' b'5']\n",
      " [b'6' b'7' b'8' b'9' b'10']]\n",
      "<class 'numpy.ndarray'>\n",
      "2\n",
      "[[b'2' b'3']\n",
      " [b'7' b'8']]\n",
      "|S2\n"
     ]
    }
   ],
   "source": [
    "arr = np.array([[1, 2, 3, 4, 5], [6, 7, 8, 9, 10]])\n",
    "print(arr)\n",
    "print(type(arr))\n",
    "print(np.ndim(arr))\n",
    "print(arr[0:2, 1:3])\n",
    "print(arr.dtype)"
   ]
  },
  {
   "cell_type": "code",
   "execution_count": 25,
   "metadata": {},
   "outputs": [
    {
     "name": "stdout",
     "output_type": "stream",
     "text": [
      "None\n",
      "[1 2 3 4 5]\n"
     ]
    }
   ],
   "source": [
    "a = np.array([1, 2, 3, 4, 5])\n",
    "\n",
    "x = a.copy()\n",
    "y = a.view()\n",
    "\n",
    "print(x.base)\n",
    "print(y.base)"
   ]
  },
  {
   "cell_type": "code",
   "execution_count": 36,
   "metadata": {},
   "outputs": [
    {
     "name": "stdout",
     "output_type": "stream",
     "text": [
      "(1, 1, 1, 1, 8)\n",
      "[[[1 2]\n",
      "  [3 4]]\n",
      "\n",
      " [[5 6]\n",
      "  [7 8]]]\n",
      "[1 2 3 4 5 6]\n"
     ]
    }
   ],
   "source": [
    "xx = np.array([1,2,3,4,5,6,7,8], ndmin=5)\n",
    "print(xx.shape)\n",
    "newxx = xx.reshape(2,2,-1)\n",
    "print(newxx)\n",
    "\n",
    "arrr = np.array([[1, 2, 3], [4, 5, 6]])\n",
    "\n",
    "newarr = arrr.reshape(-1)\n",
    "\n",
    "print(newarr)"
   ]
  },
  {
   "cell_type": "markdown",
   "metadata": {},
   "source": [
    "## Questions\n",
    "\n",
    "1. Create a NumPy array containing the numbers 1 to 5.\n",
    "2. Create a 2D NumPy array with shape (3, 3) filled with zeros.\n",
    "3. Access the element at index 2 in a NumPy array.\n",
    "4. Slice the first three elements from a NumPy array.\n",
    "5. Create a NumPy array with data type 'float64'.\n",
    "6. Create a view of a NumPy array and modify its elements. Check if the original array is also modified.\n",
    "7. Check the shape of a NumPy array.\n",
    "8. Reshape a 1D NumPy array into a 2D array with shape (2, 3).\n",
    "9. Iterate over elements of a NumPy array using a loop.\n",
    "10. Concatenate two NumPy arrays vertically.\n",
    "11. Split a NumPy array into three equal parts.\n",
    "12. Search for the index of a specific element in a NumPy array.\n",
    "13. Sort a NumPy array in ascending order.\n",
    "14. Filter elements greater than 5 from a NumPy array.\n",
    "15. Create a NumPy array containing only even numbers from 1 to 10.\n",
    "16. Create a 2D NumPy array filled with random integers between 0 and 10.\n",
    "17. Find the maximum element in a NumPy array.\n",
    "18. Find the mean of a NumPy array.\n",
    "19. Calculate the sum of all elements in a NumPy array.\n",
    "20. Check if any element in a NumPy array is zero.\n",
    "21. Convert a Python list to a NumPy array.\n",
    "22. Extract all odd numbers from a NumPy array.\n",
    "23. Remove duplicate elements from a NumPy array.\n",
    "24. Compute the dot product of two NumPy arrays.\n",
    "25. Transpose a 2D NumPy array.\n",
    "26. Add a constant value to each element of a NumPy array.\n",
    "27. Find the unique elements in a NumPy array.\n",
    "28. Create a 3x3 identity matrix using NumPy.\n",
    "29. Replace all negative elements in a NumPy array with zero.\n",
    "30. Check if two NumPy arrays are equal.\n"
   ]
  }
 ],
 "metadata": {
  "kernelspec": {
   "display_name": "Python 3",
   "language": "python",
   "name": "python3"
  },
  "language_info": {
   "codemirror_mode": {
    "name": "ipython",
    "version": 3
   },
   "file_extension": ".py",
   "mimetype": "text/x-python",
   "name": "python",
   "nbconvert_exporter": "python",
   "pygments_lexer": "ipython3",
   "version": "3.12.1"
  }
 },
 "nbformat": 4,
 "nbformat_minor": 2
}
