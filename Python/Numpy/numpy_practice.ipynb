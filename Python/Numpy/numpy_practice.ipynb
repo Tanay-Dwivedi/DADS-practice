{
 "cells": [
  {
   "cell_type": "markdown",
   "metadata": {},
   "source": [
    "## Numpy Practice"
   ]
  },
  {
   "cell_type": "code",
   "execution_count": 1,
   "metadata": {},
   "outputs": [],
   "source": [
    "import numpy as np"
   ]
  },
  {
   "cell_type": "code",
   "execution_count": 3,
   "metadata": {},
   "outputs": [
    {
     "name": "stdout",
     "output_type": "stream",
     "text": [
      "[1 2 3 4 5]\n"
     ]
    }
   ],
   "source": [
    "arr = np.array([1,2,3,4,5])\n",
    "print(arr)"
   ]
  },
  {
   "cell_type": "code",
   "execution_count": 4,
   "metadata": {},
   "outputs": [],
   "source": [
    "x = [1,2,3,4,5]\n",
    "y = np.array(x)"
   ]
  },
  {
   "cell_type": "code",
   "execution_count": 5,
   "metadata": {},
   "outputs": [
    {
     "name": "stdout",
     "output_type": "stream",
     "text": [
      "[1 2 3 4 5]\n",
      "<class 'numpy.ndarray'>\n"
     ]
    }
   ],
   "source": [
    "print(y)\n",
    "print(type(y))"
   ]
  },
  {
   "cell_type": "code",
   "execution_count": 9,
   "metadata": {},
   "outputs": [
    {
     "name": "stdout",
     "output_type": "stream",
     "text": [
      "[[1 2 3 4]\n",
      " [5 6 7 8]]\n",
      "2\n"
     ]
    }
   ],
   "source": [
    "ar2 = np.array([[1,2,3,4], [5,6,7,8]])\n",
    "print(ar2)\n",
    "print(ar2.ndim)"
   ]
  },
  {
   "cell_type": "code",
   "execution_count": 10,
   "metadata": {},
   "outputs": [
    {
     "name": "stdout",
     "output_type": "stream",
     "text": [
      "[[[1 2 3]\n",
      "  [4 5 6]\n",
      "  [7 8 9]]]\n",
      "3\n"
     ]
    }
   ],
   "source": [
    "ar3 = np.array([[[1,2,3], [4,5,6], [7,8,9]]])\n",
    "print(ar3)\n",
    "print(ar3.ndim)"
   ]
  },
  {
   "cell_type": "code",
   "execution_count": 13,
   "metadata": {},
   "outputs": [
    {
     "name": "stdout",
     "output_type": "stream",
     "text": [
      "[[[[[[[[[[1 2 3 4]]]]]]]]]]\n",
      "10\n"
     ]
    }
   ],
   "source": [
    "arn = np.array([1,2,3,4], ndmin = 10)\n",
    "print(arn)\n",
    "print(arn.ndim)"
   ]
  },
  {
   "cell_type": "markdown",
   "metadata": {},
   "source": [
    "# Special numpy arrays"
   ]
  },
  {
   "cell_type": "code",
   "execution_count": 14,
   "metadata": {},
   "outputs": [],
   "source": [
    "import numpy as np"
   ]
  },
  {
   "cell_type": "code",
   "execution_count": 18,
   "metadata": {},
   "outputs": [
    {
     "name": "stdout",
     "output_type": "stream",
     "text": [
      "[0. 0. 0. 0.]\n",
      "\n",
      "[[0. 0. 0. 0.]\n",
      " [0. 0. 0. 0.]\n",
      " [0. 0. 0. 0.]]\n"
     ]
    }
   ],
   "source": [
    "ar_zero = np.zeros(4)\n",
    "ar_2z = np.zeros((3,4))\n",
    "print(ar_zero)\n",
    "print()\n",
    "print(ar_2z)"
   ]
  },
  {
   "cell_type": "code",
   "execution_count": 21,
   "metadata": {},
   "outputs": [
    {
     "name": "stdout",
     "output_type": "stream",
     "text": [
      "[1. 1. 1. 1. 1.]\n",
      "\n",
      "[[1. 1.]\n",
      " [1. 1.]\n",
      " [1. 1.]\n",
      " [1. 1.]]\n"
     ]
    }
   ],
   "source": [
    "ar_one = np.ones(5)\n",
    "ar_2one = np.ones((4,2))\n",
    "print(ar_one)\n",
    "print()\n",
    "print(ar_2one)"
   ]
  },
  {
   "cell_type": "code",
   "execution_count": 23,
   "metadata": {},
   "outputs": [
    {
     "name": "stdout",
     "output_type": "stream",
     "text": [
      "[1. 1. 1. 1. 1.]\n"
     ]
    }
   ],
   "source": [
    "ar_em = np.empty(5)\n",
    "print(ar_em)"
   ]
  },
  {
   "cell_type": "code",
   "execution_count": 25,
   "metadata": {},
   "outputs": [
    {
     "name": "stdout",
     "output_type": "stream",
     "text": [
      "[0 1 2 3 4]\n"
     ]
    }
   ],
   "source": [
    "ar_rng = np.arange(5)\n",
    "print(ar_rng)"
   ]
  },
  {
   "cell_type": "code",
   "execution_count": 30,
   "metadata": {},
   "outputs": [
    {
     "name": "stdout",
     "output_type": "stream",
     "text": [
      "[[1. 0. 0. 0.]\n",
      " [0. 1. 0. 0.]\n",
      " [0. 0. 1. 0.]\n",
      " [0. 0. 0. 1.]]\n"
     ]
    }
   ],
   "source": [
    "ar_dia = np.eye(4,4)\n",
    "print(ar_dia)"
   ]
  },
  {
   "cell_type": "code",
   "execution_count": 33,
   "metadata": {},
   "outputs": [
    {
     "name": "stdout",
     "output_type": "stream",
     "text": [
      "[ 0.  5. 10. 15. 20.]\n"
     ]
    }
   ],
   "source": [
    "ar_lin = np.linspace(0,20, num = 5)\n",
    "print(ar_lin)"
   ]
  },
  {
   "cell_type": "markdown",
   "metadata": {},
   "source": [
    "# Random functions"
   ]
  },
  {
   "cell_type": "code",
   "execution_count": 34,
   "metadata": {},
   "outputs": [],
   "source": [
    "import numpy as np"
   ]
  },
  {
   "cell_type": "code",
   "execution_count": 35,
   "metadata": {},
   "outputs": [
    {
     "name": "stdout",
     "output_type": "stream",
     "text": [
      "[0.99177407 0.25416304 0.72603762 0.19877428]\n"
     ]
    }
   ],
   "source": [
    "var = np.random.rand(4)\n",
    "print(var)"
   ]
  },
  {
   "cell_type": "code",
   "execution_count": 36,
   "metadata": {},
   "outputs": [
    {
     "name": "stdout",
     "output_type": "stream",
     "text": [
      "[[0.58764975 0.75670403 0.96925159 0.1805577  0.94636683]\n",
      " [0.87335347 0.92395493 0.61747188 0.90401706 0.14741869]]\n"
     ]
    }
   ],
   "source": [
    "var1 = np.random.rand(2,5)\n",
    "print(var1)"
   ]
  },
  {
   "cell_type": "code",
   "execution_count": 37,
   "metadata": {},
   "outputs": [
    {
     "name": "stdout",
     "output_type": "stream",
     "text": [
      "[ 1.09368511  0.22966137  0.02615756 -2.14902563  0.74878239]\n"
     ]
    }
   ],
   "source": [
    "varn = np.random.randn(5)\n",
    "print(varn)"
   ]
  },
  {
   "cell_type": "code",
   "execution_count": 38,
   "metadata": {},
   "outputs": [
    {
     "name": "stdout",
     "output_type": "stream",
     "text": [
      "[[ 1.25417603 -1.16851994  0.62973363 -0.54062229]\n",
      " [ 0.35662221  0.24974486 -0.21078632 -0.03483389]\n",
      " [ 0.23108073  1.8352828  -0.43000531 -0.61370377]]\n"
     ]
    }
   ],
   "source": [
    "varnd = np.random.randn(3,4)\n",
    "print(varnd)"
   ]
  },
  {
   "cell_type": "code",
   "execution_count": 39,
   "metadata": {},
   "outputs": [
    {
     "name": "stdout",
     "output_type": "stream",
     "text": [
      "[0.35652869 0.97374752 0.70756212 0.04898589]\n"
     ]
    }
   ],
   "source": [
    "varf = np.random.ranf(4)\n",
    "print(varf)"
   ]
  },
  {
   "cell_type": "code",
   "execution_count": 45,
   "metadata": {},
   "outputs": [
    {
     "name": "stdout",
     "output_type": "stream",
     "text": [
      "[17 10  9 19 10]\n"
     ]
    }
   ],
   "source": [
    "varr = np.random.randint(5, 20, 5)\n",
    "print(varr)"
   ]
  },
  {
   "cell_type": "markdown",
   "metadata": {},
   "source": [
    "# Data Types"
   ]
  },
  {
   "cell_type": "code",
   "execution_count": 46,
   "metadata": {},
   "outputs": [],
   "source": [
    "import numpy as np"
   ]
  },
  {
   "cell_type": "code",
   "execution_count": 50,
   "metadata": {},
   "outputs": [
    {
     "name": "stdout",
     "output_type": "stream",
     "text": [
      "Data type:  <U11\n"
     ]
    }
   ],
   "source": [
    "var = np.array([1,\"2\",3,4,5])\n",
    "print(\"Data type: \", var.dtype)"
   ]
  },
  {
   "cell_type": "code",
   "execution_count": 58,
   "metadata": {},
   "outputs": [
    {
     "name": "stdout",
     "output_type": "stream",
     "text": [
      "float32\n"
     ]
    }
   ],
   "source": [
    "arrd = np.array([1,2,3,4], dtype = \"f\")\n",
    "print(arrd.dtype)"
   ]
  },
  {
   "cell_type": "code",
   "execution_count": 59,
   "metadata": {},
   "outputs": [
    {
     "name": "stdout",
     "output_type": "stream",
     "text": [
      "[1. 2. 3. 4.]\n",
      "[1 2 3 4]\n"
     ]
    }
   ],
   "source": [
    "varty = arrd.astype(int)\n",
    "print(arrd)\n",
    "print(varty)"
   ]
  },
  {
   "cell_type": "markdown",
   "metadata": {},
   "source": [
    "# Shaping and Reshaping of numpy arrays"
   ]
  },
  {
   "cell_type": "code",
   "execution_count": 60,
   "metadata": {},
   "outputs": [],
   "source": [
    "import numpy as np"
   ]
  },
  {
   "cell_type": "code",
   "execution_count": 63,
   "metadata": {},
   "outputs": [
    {
     "name": "stdout",
     "output_type": "stream",
     "text": [
      "[[1 2 3]\n",
      " [4 5 6]]\n",
      "\n",
      "(2, 3)\n"
     ]
    }
   ],
   "source": [
    "vars = np.array([[1,2,3],[4,5,6]])\n",
    "print(vars)\n",
    "print()\n",
    "print(vars.shape)"
   ]
  },
  {
   "cell_type": "code",
   "execution_count": 67,
   "metadata": {},
   "outputs": [
    {
     "name": "stdout",
     "output_type": "stream",
     "text": [
      "[[[[[[[1 2 3]]]]]]]\n",
      "\n",
      "(1, 1, 1, 1, 1, 1, 3)\n"
     ]
    }
   ],
   "source": [
    "varmul = np.array([1,2,3], ndmin = 7)\n",
    "print(varmul)\n",
    "print()\n",
    "print(varmul.shape)"
   ]
  },
  {
   "cell_type": "code",
   "execution_count": 71,
   "metadata": {},
   "outputs": [
    {
     "name": "stdout",
     "output_type": "stream",
     "text": [
      "2\n",
      "(3, 2)\n",
      "[[1 2]\n",
      " [3 4]\n",
      " [5 6]]\n"
     ]
    }
   ],
   "source": [
    "varres = np.array([1,2,3,4,5,6])\n",
    "x = varres.reshape(3,2)\n",
    "print(x.ndim)\n",
    "print(x.shape)\n",
    "print(x)"
   ]
  },
  {
   "cell_type": "code",
   "execution_count": 82,
   "metadata": {},
   "outputs": [
    {
     "name": "stdout",
     "output_type": "stream",
     "text": [
      "[ 1  2  3  4  5  6  7  8  9 10 11 12]\n",
      "1\n",
      "(12,)\n",
      "\n",
      "[[[ 1  2]\n",
      "  [ 3  4]\n",
      "  [ 5  6]]\n",
      "\n",
      " [[ 7  8]\n",
      "  [ 9 10]\n",
      "  [11 12]]]\n",
      "3\n",
      "(2, 3, 2)\n",
      "\n",
      "[ 1  2  3  4  5  6  7  8  9 10 11 12]\n",
      "1\n",
      "(12,)\n",
      "\n"
     ]
    }
   ],
   "source": [
    "varry = np.array([1,2,3,4,5,6,7,8,9,10,11,12])\n",
    "print(varry)\n",
    "print(varry.ndim)\n",
    "print(varry.shape)\n",
    "print()\n",
    "\n",
    "vres = varry.reshape(2,3,2)\n",
    "print(vres)\n",
    "print(vres.ndim)\n",
    "print(vres.shape)\n",
    "print()\n",
    "\n",
    "v1 = vres.reshape(-1)\n",
    "print(v1)\n",
    "print(v1.ndim)\n",
    "print(v1.shape)\n",
    "print()"
   ]
  },
  {
   "cell_type": "markdown",
   "metadata": {},
   "source": [
    "# Arithmetic ops in numpy arrays"
   ]
  },
  {
   "cell_type": "code",
   "execution_count": 83,
   "metadata": {},
   "outputs": [],
   "source": [
    "import numpy as np"
   ]
  },
  {
   "cell_type": "code",
   "execution_count": 84,
   "metadata": {},
   "outputs": [
    {
     "name": "stdout",
     "output_type": "stream",
     "text": [
      "[ 6  7  8  9 10]\n"
     ]
    }
   ],
   "source": [
    "vara = np.array([1,2,3,4,5])\n",
    "varad = vara + 5\n",
    "print(varad)"
   ]
  },
  {
   "cell_type": "code",
   "execution_count": 92,
   "metadata": {},
   "outputs": [
    {
     "name": "stdout",
     "output_type": "stream",
     "text": [
      "[5 7 9]\n"
     ]
    }
   ],
   "source": [
    "var1 = np.array([1,2,3])\n",
    "var2 = np.array([4,5,6])\n",
    "\n",
    "nvar = np.add(var1,var2)\n",
    "print(nvar)"
   ]
  },
  {
   "cell_type": "code",
   "execution_count": 94,
   "metadata": {},
   "outputs": [
    {
     "name": "stdout",
     "output_type": "stream",
     "text": [
      "[-3 -3 -3]\n"
     ]
    }
   ],
   "source": [
    "var1 = np.array([1,2,3])\n",
    "var2 = np.array([4,5,6])\n",
    "\n",
    "nvar = np.subtract(var1,var2)\n",
    "print(nvar)"
   ]
  },
  {
   "cell_type": "code",
   "execution_count": 95,
   "metadata": {},
   "outputs": [
    {
     "name": "stdout",
     "output_type": "stream",
     "text": [
      "[ 4 10 18]\n"
     ]
    }
   ],
   "source": [
    "var1 = np.array([1,2,3])\n",
    "var2 = np.array([4,5,6])\n",
    "\n",
    "nvar = np.multiply(var1,var2)\n",
    "print(nvar)"
   ]
  },
  {
   "cell_type": "code",
   "execution_count": 96,
   "metadata": {},
   "outputs": [
    {
     "name": "stdout",
     "output_type": "stream",
     "text": [
      "[0.25 0.4  0.5 ]\n"
     ]
    }
   ],
   "source": [
    "var1 = np.array([1,2,3])\n",
    "var2 = np.array([4,5,6])\n",
    "\n",
    "nvar = np.divide(var1,var2)\n",
    "print(nvar)"
   ]
  },
  {
   "cell_type": "code",
   "execution_count": 98,
   "metadata": {},
   "outputs": [
    {
     "name": "stdout",
     "output_type": "stream",
     "text": [
      "[1 2 3]\n"
     ]
    }
   ],
   "source": [
    "var1 = np.array([1,2,3])\n",
    "var2 = np.array([4,5,6])\n",
    "\n",
    "nvar = np.mod(var1,var2)\n",
    "print(nvar)"
   ]
  },
  {
   "cell_type": "code",
   "execution_count": 99,
   "metadata": {},
   "outputs": [
    {
     "name": "stdout",
     "output_type": "stream",
     "text": [
      "[  1  32 729]\n"
     ]
    }
   ],
   "source": [
    "var1 = np.array([1,2,3])\n",
    "var2 = np.array([4,5,6])\n",
    "\n",
    "nvar = np.power(var1,var2)\n",
    "print(nvar)"
   ]
  },
  {
   "cell_type": "code",
   "execution_count": 101,
   "metadata": {},
   "outputs": [
    {
     "name": "stdout",
     "output_type": "stream",
     "text": [
      "[1 0 0]\n"
     ]
    }
   ],
   "source": [
    "var1 = np.array([1,2,3])\n",
    "var2 = np.array([4,5,6])\n",
    "\n",
    "nvar = np.reciprocal(var1)\n",
    "print(nvar)"
   ]
  },
  {
   "cell_type": "code",
   "execution_count": 104,
   "metadata": {},
   "outputs": [
    {
     "name": "stdout",
     "output_type": "stream",
     "text": [
      "[[5 7 9]\n",
      " [3 6 3]]\n",
      "\n",
      "[[-3 -3 -3]\n",
      " [ 1  2  1]]\n",
      "\n",
      "[[ 4 10 18]\n",
      " [ 2  8  2]]\n",
      "\n",
      "[[0.25 0.4  0.5 ]\n",
      " [2.   2.   2.  ]]\n",
      "\n",
      "[[1 2 3]\n",
      " [0 0 0]]\n",
      "\n",
      "[[  1  32 729]\n",
      " [  2  16   2]]\n",
      "\n"
     ]
    }
   ],
   "source": [
    "var1 = np.array([[1,2,3],[2,4,2]])\n",
    "var2 = np.array([[4,5,6],[1,2,1]])\n",
    "\n",
    "nvar = np.add(var1,var2)\n",
    "print(nvar)\n",
    "print()\n",
    "nvar = np.subtract(var1,var2)\n",
    "print(nvar)\n",
    "print()\n",
    "nvar = np.multiply(var1,var2)\n",
    "print(nvar)\n",
    "print()\n",
    "nvar = np.divide(var1,var2)\n",
    "print(nvar)\n",
    "print()\n",
    "nvar = np.mod(var1,var2)\n",
    "print(nvar)\n",
    "print()\n",
    "nvar = np.power(var1,var2)\n",
    "print(nvar)\n",
    "print()"
   ]
  },
  {
   "cell_type": "code",
   "execution_count": 118,
   "metadata": {},
   "outputs": [
    {
     "name": "stdout",
     "output_type": "stream",
     "text": [
      "min value:  1\n",
      "min value pos:  0\n",
      "max value:  6\n",
      "max value pos:  5\n",
      "[1.         1.41421356 1.73205081 2.         2.23606798 2.44948974\n",
      " 1.41421356 2.44948974]\n",
      "[ 1  3  6 10 15 21 23 29]\n"
     ]
    }
   ],
   "source": [
    "# for 1d arrays\n",
    "\n",
    "nv = np.array([1,2,3,4,5,6,2,6])\n",
    "print(\"min value: \", np.min(nv))\n",
    "print(\"min value pos: \", np.argmin(nv))\n",
    "print(\"max value: \", np.max(nv))\n",
    "print(\"max value pos: \", np.argmax(nv))\n",
    "print(np.sqrt(nv))\n",
    "print(np.cumsum(nv))"
   ]
  },
  {
   "cell_type": "code",
   "execution_count": 115,
   "metadata": {},
   "outputs": [
    {
     "name": "stdout",
     "output_type": "stream",
     "text": [
      "min value along column:  [1 2 5 2]\n",
      "min value along row:  [1 2]\n"
     ]
    }
   ],
   "source": [
    "# for 2d arrays\n",
    "# axis = 0 (finds along columns)\n",
    "# axis = 1 (find along rows)\n",
    "\n",
    "nv2 = np.array([[1,2,5,6], [3,4,8,2]])\n",
    "print(\"min value along column: \", np.min(nv2, axis = 0))\n",
    "print(\"min value along row: \", np.min(nv2, axis = 1))"
   ]
  },
  {
   "cell_type": "markdown",
   "metadata": {},
   "source": [
    "# Broadcasting in numpy"
   ]
  },
  {
   "cell_type": "code",
   "execution_count": 119,
   "metadata": {},
   "outputs": [],
   "source": [
    "import numpy as np"
   ]
  },
  {
   "cell_type": "code",
   "execution_count": 121,
   "metadata": {},
   "outputs": [
    {
     "name": "stdout",
     "output_type": "stream",
     "text": [
      "[2 4 6 8]\n"
     ]
    }
   ],
   "source": [
    "v1 = np.array([1,2,3,4])\n",
    "v2 = np.array([1,2,3,4])\n",
    "print(np.add(v1, v2))"
   ]
  },
  {
   "cell_type": "code",
   "execution_count": 124,
   "metadata": {},
   "outputs": [
    {
     "name": "stdout",
     "output_type": "stream",
     "text": [
      "(3,)\n",
      "[1 2 3]\n",
      "\n",
      "(3, 1)\n",
      "[[1]\n",
      " [2]\n",
      " [3]]\n",
      "\n",
      "(3, 3)\n",
      "[[2 3 4]\n",
      " [3 4 5]\n",
      " [4 5 6]]\n"
     ]
    }
   ],
   "source": [
    "ar1 = np.array([1,2,3])\n",
    "print(ar1.shape)\n",
    "print(ar1)\n",
    "print()\n",
    "ar2 = np.array([[1],[2],[3]])\n",
    "print(ar2.shape)\n",
    "print(ar2)\n",
    "print()\n",
    "\n",
    "nar = np.add(ar1, ar2)\n",
    "print(nar.shape)\n",
    "print(nar)"
   ]
  },
  {
   "cell_type": "code",
   "execution_count": 131,
   "metadata": {},
   "outputs": [
    {
     "name": "stdout",
     "output_type": "stream",
     "text": [
      "(2, 3)\n",
      "[[1 2 3]\n",
      " [1 2 3]]\n",
      "\n",
      "(2, 1)\n",
      "[[1]\n",
      " [2]]\n",
      "\n",
      "(2, 3)\n",
      "[[2 3 4]\n",
      " [3 4 5]]\n"
     ]
    }
   ],
   "source": [
    "ar1 = np.array([[1,2,3],[1,2,3]])\n",
    "print(ar1.shape)\n",
    "print(ar1)\n",
    "print()\n",
    "ar2 = np.array([[1],[2]])\n",
    "print(ar2.shape)\n",
    "print(ar2)\n",
    "print()\n",
    "\n",
    "nar = np.add(ar1, ar2)\n",
    "print(nar.shape)\n",
    "print(nar)"
   ]
  },
  {
   "cell_type": "markdown",
   "metadata": {},
   "source": [
    "# Indexing"
   ]
  },
  {
   "cell_type": "code",
   "execution_count": 132,
   "metadata": {},
   "outputs": [],
   "source": [
    "import numpy as np"
   ]
  },
  {
   "cell_type": "code",
   "execution_count": 148,
   "metadata": {},
   "outputs": [
    {
     "name": "stdout",
     "output_type": "stream",
     "text": [
      "3\n",
      "5\n"
     ]
    }
   ],
   "source": [
    "# 1d array\n",
    "\n",
    "ar1 = np.array([1,2,3,4,5])\n",
    "print(ar1[2])\n",
    "print(ar1[-1])"
   ]
  },
  {
   "cell_type": "code",
   "execution_count": 138,
   "metadata": {},
   "outputs": [
    {
     "name": "stdout",
     "output_type": "stream",
     "text": [
      "3\n",
      "1\n"
     ]
    }
   ],
   "source": [
    "# 2d array\n",
    "\n",
    "ar2 = np.array([[5,4,3], [2,7,1]])\n",
    "print(ar2[0,2])\n",
    "print(ar2[-1,-1])"
   ]
  },
  {
   "cell_type": "code",
   "execution_count": 147,
   "metadata": {},
   "outputs": [
    {
     "name": "stdout",
     "output_type": "stream",
     "text": [
      "3\n",
      "6\n",
      "2\n"
     ]
    }
   ],
   "source": [
    "# 3d array\n",
    "\n",
    "ar3 = np.array([[[1,2],[6,7]]])\n",
    "print(ar3.ndim)\n",
    "print(ar3[0,1,0])\n",
    "print(ar3[0,0,1])"
   ]
  },
  {
   "cell_type": "markdown",
   "metadata": {},
   "source": [
    "# Slicing"
   ]
  },
  {
   "cell_type": "code",
   "execution_count": 160,
   "metadata": {},
   "outputs": [
    {
     "name": "stdout",
     "output_type": "stream",
     "text": [
      "[3 4 5]\n",
      "[3 5 7]\n",
      "[3 4 5]\n",
      "[5 6 7 8 9]\n",
      "[1 2 3 4 5]\n",
      "[9 8 7 6 5 4 3 2 1]\n"
     ]
    }
   ],
   "source": [
    "# 1d array\n",
    "\n",
    "a1 = np.array([1,2,3,4,5,6,7,8,9])\n",
    "print(a1[2:5:1])\n",
    "print(a1[2:8:2])\n",
    "print(a1[2:5])\n",
    "print(a1[4:])\n",
    "print(a1[:5])\n",
    "print(a1[::-1])"
   ]
  },
  {
   "cell_type": "code",
   "execution_count": 165,
   "metadata": {},
   "outputs": [
    {
     "name": "stdout",
     "output_type": "stream",
     "text": [
      "[2 3 4]\n",
      "[14]\n",
      "[[2 3]\n",
      " [6 7]]\n",
      "[13 14]\n",
      "[[ 5  7]\n",
      " [13 15]]\n"
     ]
    }
   ],
   "source": [
    "# 2d array\n",
    "\n",
    "a2 = np.array([[1,2,3,4],[5,6,7,8],[9,10,11,12],[13,14,15,16]])\n",
    "print(a2[0,1:])\n",
    "print(a2[3,1:2])\n",
    "print(a2[0:2,1:3])\n",
    "print(a2[-1,0:2])\n",
    "print(a2[1::2,0::2])"
   ]
  },
  {
   "cell_type": "markdown",
   "metadata": {},
   "source": [
    "# Iteration"
   ]
  },
  {
   "cell_type": "code",
   "execution_count": 166,
   "metadata": {},
   "outputs": [],
   "source": [
    "import numpy as np"
   ]
  },
  {
   "cell_type": "code",
   "execution_count": 169,
   "metadata": {},
   "outputs": [
    {
     "name": "stdout",
     "output_type": "stream",
     "text": [
      "[1 2 3 4 5 6 7 8 9]\n",
      "\n",
      "1\n",
      "2\n",
      "3\n",
      "4\n",
      "5\n",
      "6\n",
      "7\n",
      "8\n",
      "9\n"
     ]
    }
   ],
   "source": [
    "# 1d array\n",
    "\n",
    "ar = np.array([1,2,3,4,5,6,7,8,9])\n",
    "print(ar)\n",
    "print()\n",
    "for i in ar:\n",
    "    print(i)"
   ]
  },
  {
   "cell_type": "code",
   "execution_count": 174,
   "metadata": {},
   "outputs": [
    {
     "name": "stdout",
     "output_type": "stream",
     "text": [
      "[[1 2 3]\n",
      " [4 5 6]]\n",
      "\n",
      "[1 2 3]\n",
      "[4 5 6]\n",
      "\n",
      "1\n",
      "2\n",
      "3\n",
      "4\n",
      "5\n",
      "6\n"
     ]
    }
   ],
   "source": [
    "# 2d array\n",
    "\n",
    "arr = np.array([[1,2,3],[4,5,6]])\n",
    "print(arr)\n",
    "print()\n",
    "\n",
    "for i in arr:\n",
    "    print(i)\n",
    "\n",
    "print()\n",
    "\n",
    "for i in arr:\n",
    "    for j in i:\n",
    "        print(j)"
   ]
  },
  {
   "cell_type": "code",
   "execution_count": 178,
   "metadata": {},
   "outputs": [
    {
     "name": "stdout",
     "output_type": "stream",
     "text": [
      "[[[1 2 3 4 5]]]\n",
      "\n",
      "[[1 2 3 4 5]]\n",
      "\n",
      "[1 2 3 4 5]\n",
      "\n",
      "1\n",
      "2\n",
      "3\n",
      "4\n",
      "5\n"
     ]
    }
   ],
   "source": [
    "# 3d arrays\n",
    "\n",
    "arrr = np.array([[[1,2,3,4,5]]])\n",
    "\n",
    "print(arrr)\n",
    "print()\n",
    "\n",
    "for i in arrr:\n",
    "    print(i)\n",
    "\n",
    "print()\n",
    "\n",
    "for i in arrr:\n",
    "    for j in i:\n",
    "        print(j)\n",
    "\n",
    "print()\n",
    "\n",
    "for i in arrr:\n",
    "    for j in i:\n",
    "        for k in j:\n",
    "            print(k)"
   ]
  },
  {
   "cell_type": "code",
   "execution_count": 181,
   "metadata": {},
   "outputs": [
    {
     "name": "stdout",
     "output_type": "stream",
     "text": [
      "[[[ 23  54  21 324   3   4]]]\n",
      "\n",
      "23\n",
      "54\n",
      "21\n",
      "324\n",
      "3\n",
      "4\n"
     ]
    }
   ],
   "source": [
    "# nditer function\n",
    "\n",
    "arrr = np.array([[[23,54,21,324,3,4]]])\n",
    "\n",
    "print(arrr)\n",
    "print()\n",
    "\n",
    "for i in np.nditer(arrr):\n",
    "    print(i)"
   ]
  },
  {
   "cell_type": "code",
   "execution_count": 184,
   "metadata": {},
   "outputs": [
    {
     "name": "stdout",
     "output_type": "stream",
     "text": [
      "[[[ 23  54  21 324   3   4]]]\n",
      "\n",
      "23 (0, 0, 0)\n",
      "54 (0, 0, 1)\n",
      "21 (0, 0, 2)\n",
      "324 (0, 0, 3)\n",
      "3 (0, 0, 4)\n",
      "4 (0, 0, 5)\n"
     ]
    }
   ],
   "source": [
    "arrr = np.array([[[23,54,21,324,3,4]]])\n",
    "\n",
    "print(arrr)\n",
    "print()\n",
    "\n",
    "for pos, i in np.ndenumerate(arrr):\n",
    "    print(i, pos)"
   ]
  },
  {
   "cell_type": "markdown",
   "metadata": {},
   "source": [
    "# Copy and View"
   ]
  },
  {
   "cell_type": "code",
   "execution_count": 185,
   "metadata": {},
   "outputs": [],
   "source": [
    "import numpy as np"
   ]
  },
  {
   "cell_type": "code",
   "execution_count": 186,
   "metadata": {},
   "outputs": [
    {
     "name": "stdout",
     "output_type": "stream",
     "text": [
      "[1 2 3 4 5]\n"
     ]
    }
   ],
   "source": [
    "ar = np.array([1,2,3,4,5])\n",
    "print(ar)"
   ]
  },
  {
   "cell_type": "code",
   "execution_count": 189,
   "metadata": {},
   "outputs": [
    {
     "name": "stdout",
     "output_type": "stream",
     "text": [
      "[1 2 3 4 5]\n"
     ]
    }
   ],
   "source": [
    "cop = ar.copy()\n",
    "print(cop)"
   ]
  },
  {
   "cell_type": "code",
   "execution_count": 190,
   "metadata": {},
   "outputs": [
    {
     "name": "stdout",
     "output_type": "stream",
     "text": [
      "[1 2 3 4 5]\n"
     ]
    }
   ],
   "source": [
    "vw = ar.view()\n",
    "print(vw)"
   ]
  },
  {
   "cell_type": "markdown",
   "metadata": {},
   "source": [
    "# Join"
   ]
  },
  {
   "cell_type": "code",
   "execution_count": 1,
   "metadata": {},
   "outputs": [],
   "source": [
    "import numpy as np"
   ]
  },
  {
   "cell_type": "code",
   "execution_count": 6,
   "metadata": {},
   "outputs": [
    {
     "name": "stdout",
     "output_type": "stream",
     "text": [
      "[1 2 3 4 6 5 4 3]\n"
     ]
    }
   ],
   "source": [
    "# 1d arrays\n",
    "\n",
    "ar1 = np.array([1,2,3,4])\n",
    "ar2 = np.array([6,5,4,3])\n",
    "\n",
    "nar = np.concatenate([ar1,ar2])\n",
    "print(nar)"
   ]
  },
  {
   "cell_type": "code",
   "execution_count": 11,
   "metadata": {},
   "outputs": [
    {
     "name": "stdout",
     "output_type": "stream",
     "text": [
      "[[1 2 3 4]\n",
      " [3 2 4 1]]\n",
      "\n",
      "[[2 2 2 2]\n",
      " [4 5 3 6]]\n",
      "\n",
      "[[1 2 3 4 2 2 2 2]\n",
      " [3 2 4 1 4 5 3 6]]\n",
      "\n",
      "[[1 2 3 4]\n",
      " [3 2 4 1]\n",
      " [2 2 2 2]\n",
      " [4 5 3 6]]\n"
     ]
    }
   ],
   "source": [
    "# 2d arrays\n",
    "# axis = 1 (merge the rows together in a single row)\n",
    "# axis = 0 (merge the rows together)\n",
    "\n",
    "ar2d = np.array([[1,2,3,4],[3,2,4,1]])\n",
    "ar2d2 = np.array([[2,2,2,2],[4,5,3,6]])\n",
    "print(ar2d)\n",
    "print()\n",
    "print(ar2d2)\n",
    "print()\n",
    "\n",
    "nar2 = np.concatenate([ar2d,ar2d2], axis = 1)\n",
    "print(nar2)\n",
    "print()\n",
    "nar2 = np.concatenate([ar2d,ar2d2], axis = 0)\n",
    "print(nar2)"
   ]
  },
  {
   "cell_type": "code",
   "execution_count": 22,
   "metadata": {},
   "outputs": [
    {
     "name": "stdout",
     "output_type": "stream",
     "text": [
      "[1 2 3 4 2 2 2 2]\n",
      "[[1 2 3 4]\n",
      " [2 2 2 2]]\n",
      "[[[1 2]\n",
      "  [2 2]\n",
      "  [3 2]\n",
      "  [4 2]]]\n"
     ]
    }
   ],
   "source": [
    "# vstack - column merge (axis = 0)\n",
    "# dstack - height merge\n",
    "# hstack - rows merge (axis = 1)\n",
    "\n",
    "ar2d = np.array([1,2,3,4])\n",
    "ar2d2 = np.array([2,2,2,2])\n",
    "\n",
    "nar = np.hstack([ar2d,ar2d2]) # rows\n",
    "print(nar)\n",
    "\n",
    "nar = np.vstack([ar2d,ar2d2]) # columns\n",
    "print(nar)\n",
    "\n",
    "nar = np.dstack([ar2d,ar2d2]) # height\n",
    "print(nar)"
   ]
  },
  {
   "cell_type": "markdown",
   "metadata": {},
   "source": [
    "# Split"
   ]
  },
  {
   "cell_type": "code",
   "execution_count": 23,
   "metadata": {},
   "outputs": [],
   "source": [
    "import numpy as np"
   ]
  },
  {
   "cell_type": "code",
   "execution_count": 24,
   "metadata": {},
   "outputs": [
    {
     "name": "stdout",
     "output_type": "stream",
     "text": [
      "[1 2 3 4 5]\n"
     ]
    }
   ],
   "source": [
    "arr = np.array([1,2,3,4,5])\n",
    "print(arr)"
   ]
  },
  {
   "cell_type": "code",
   "execution_count": 41,
   "metadata": {},
   "outputs": [
    {
     "name": "stdout",
     "output_type": "stream",
     "text": [
      "[array([1]), array([2]), array([3]), array([4]), array([5]), array([], dtype=int32), array([], dtype=int32)]\n",
      "[2]\n",
      "<class 'list'>\n"
     ]
    }
   ],
   "source": [
    "ar = np.array_split(arr,7)\n",
    "print(ar)\n",
    "print(ar[1])\n",
    "print(type(ar))"
   ]
  },
  {
   "cell_type": "code",
   "execution_count": 44,
   "metadata": {},
   "outputs": [
    {
     "name": "stdout",
     "output_type": "stream",
     "text": [
      "[array([[1, 2]]), array([[3, 4]]), array([[5, 6]])]\n",
      "[array([[1],\n",
      "       [3],\n",
      "       [5]]), array([[2],\n",
      "       [4],\n",
      "       [6]])]\n"
     ]
    }
   ],
   "source": [
    "ar1 = np.array([[1,2],[3,4],[5,6]])\n",
    "nar = np.array_split(ar1,3)\n",
    "print(nar)\n",
    "narr = np.array_split(ar1, 2, axis = 1)\n",
    "print(narr)"
   ]
  },
  {
   "cell_type": "markdown",
   "metadata": {},
   "source": [
    "# Search"
   ]
  },
  {
   "cell_type": "code",
   "execution_count": 45,
   "metadata": {},
   "outputs": [],
   "source": [
    "import numpy as np"
   ]
  },
  {
   "cell_type": "code",
   "execution_count": 51,
   "metadata": {},
   "outputs": [
    {
     "name": "stdout",
     "output_type": "stream",
     "text": [
      "(array([1, 3, 4], dtype=int64),)\n",
      "[1 3 4]\n"
     ]
    }
   ],
   "source": [
    "var = np.array([1,2,3,2,4,7,3,1])\n",
    "ind = np.where(var%2 == 0)\n",
    "print(ind)\n",
    "print(ind[0])"
   ]
  },
  {
   "cell_type": "markdown",
   "metadata": {},
   "source": [
    "# Search Sorted"
   ]
  },
  {
   "cell_type": "code",
   "execution_count": 52,
   "metadata": {},
   "outputs": [],
   "source": [
    "import numpy as np"
   ]
  },
  {
   "cell_type": "code",
   "execution_count": 56,
   "metadata": {},
   "outputs": [
    {
     "name": "stdout",
     "output_type": "stream",
     "text": [
      "5\n"
     ]
    }
   ],
   "source": [
    "sar = np.array([1,2,3,4,5,6,7,8])\n",
    "vind = np.searchsorted(sar, 6)\n",
    "print(vind)"
   ]
  },
  {
   "cell_type": "code",
   "execution_count": 57,
   "metadata": {},
   "outputs": [
    {
     "name": "stdout",
     "output_type": "stream",
     "text": [
      "6\n"
     ]
    }
   ],
   "source": [
    "sar = np.array([1,2,3,4,5,6,7,8])\n",
    "vind = np.searchsorted(sar, 6, side=\"right\")\n",
    "print(vind)"
   ]
  },
  {
   "cell_type": "code",
   "execution_count": 59,
   "metadata": {},
   "outputs": [
    {
     "name": "stdout",
     "output_type": "stream",
     "text": [
      "[1 5 0]\n"
     ]
    }
   ],
   "source": [
    "sar = np.array([1,2,3,4,5,6,7,8])\n",
    "vind = np.searchsorted(sar, [2,6,1])\n",
    "print(vind)"
   ]
  },
  {
   "cell_type": "markdown",
   "metadata": {},
   "source": [
    "# Sort"
   ]
  },
  {
   "cell_type": "code",
   "execution_count": 60,
   "metadata": {},
   "outputs": [],
   "source": [
    "import numpy as np"
   ]
  },
  {
   "cell_type": "code",
   "execution_count": 61,
   "metadata": {},
   "outputs": [
    {
     "name": "stdout",
     "output_type": "stream",
     "text": [
      "[1 1 2 4 6 6 8]\n"
     ]
    }
   ],
   "source": [
    "vr = np.array([2,4,1,6,8,1,6])\n",
    "nar = np.sort(vr)\n",
    "print(nar)"
   ]
  },
  {
   "cell_type": "code",
   "execution_count": 62,
   "metadata": {},
   "outputs": [
    {
     "name": "stdout",
     "output_type": "stream",
     "text": [
      "['a' 'a' 'n' 't' 'y']\n"
     ]
    }
   ],
   "source": [
    "vr = np.array([\"t\",\"a\",\"n\",\"a\",\"y\"])\n",
    "nar = np.sort(vr)\n",
    "print(nar)"
   ]
  },
  {
   "cell_type": "code",
   "execution_count": 63,
   "metadata": {},
   "outputs": [
    {
     "name": "stdout",
     "output_type": "stream",
     "text": [
      "[[1 2 3 4]\n",
      " [1 3 5 6]]\n"
     ]
    }
   ],
   "source": [
    "vr = np.array([[2,4,1,3],[5,6,1,3]])\n",
    "nar = np.sort(vr)\n",
    "print(nar)"
   ]
  },
  {
   "cell_type": "markdown",
   "metadata": {},
   "source": [
    "# Filter"
   ]
  },
  {
   "cell_type": "code",
   "execution_count": 64,
   "metadata": {},
   "outputs": [],
   "source": [
    "import numpy as np"
   ]
  },
  {
   "cell_type": "code",
   "execution_count": 68,
   "metadata": {},
   "outputs": [
    {
     "name": "stdout",
     "output_type": "stream",
     "text": [
      "[2 1]\n"
     ]
    }
   ],
   "source": [
    "vr = np.array([2,4,1])\n",
    "f = [True, False, True]\n",
    "nar = vr[f]\n",
    "print(nar)"
   ]
  },
  {
   "cell_type": "code",
   "execution_count": 69,
   "metadata": {},
   "outputs": [
    {
     "name": "stdout",
     "output_type": "stream",
     "text": [
      "[2 1]\n"
     ]
    }
   ],
   "source": [
    "vr = np.array([2,4,1])\n",
    "f = [True, False, True]\n",
    "nar = vr[[True, False, True]]\n",
    "print(nar)"
   ]
  },
  {
   "cell_type": "markdown",
   "metadata": {},
   "source": [
    "# Shuffle"
   ]
  },
  {
   "cell_type": "code",
   "execution_count": 70,
   "metadata": {},
   "outputs": [],
   "source": [
    "import numpy as np"
   ]
  },
  {
   "cell_type": "markdown",
   "metadata": {},
   "source": [
    "arr = np.array([1,2,3,4,5])\n",
    "\n",
    "np.random.shuffle(arr)\n",
    "\n",
    "print(arr)"
   ]
  },
  {
   "cell_type": "markdown",
   "metadata": {},
   "source": [
    "# Unique"
   ]
  },
  {
   "cell_type": "code",
   "execution_count": 76,
   "metadata": {},
   "outputs": [],
   "source": [
    "import numpy as np"
   ]
  },
  {
   "cell_type": "code",
   "execution_count": 77,
   "metadata": {},
   "outputs": [
    {
     "name": "stdout",
     "output_type": "stream",
     "text": [
      "[ 1  2  3  4 11]\n"
     ]
    }
   ],
   "source": [
    "arr = np.array([1,1,2,4,11,1,3,1])\n",
    "\n",
    "nar = np.unique(arr)\n",
    "print(nar)"
   ]
  },
  {
   "cell_type": "code",
   "execution_count": 80,
   "metadata": {},
   "outputs": [
    {
     "name": "stdout",
     "output_type": "stream",
     "text": [
      "(array([ 1,  2,  3,  4, 11]), array([0, 2, 6, 3, 4], dtype=int64), array([4, 1, 1, 1, 1], dtype=int64))\n"
     ]
    }
   ],
   "source": [
    "arr = np.array([1,1,2,4,11,1,3,1])\n",
    "\n",
    "nar = np.unique(arr, return_index = True, return_counts = True)\n",
    "print(nar)"
   ]
  },
  {
   "cell_type": "markdown",
   "metadata": {},
   "source": [
    "# Resize"
   ]
  },
  {
   "cell_type": "code",
   "execution_count": 81,
   "metadata": {},
   "outputs": [],
   "source": [
    "import numpy as np"
   ]
  },
  {
   "cell_type": "code",
   "execution_count": 84,
   "metadata": {},
   "outputs": [
    {
     "name": "stdout",
     "output_type": "stream",
     "text": [
      "[[ 1  1  2]\n",
      " [ 4 11  1]\n",
      " [ 3  1  1]\n",
      " [ 1  2  4]]\n"
     ]
    }
   ],
   "source": [
    "arr = np.array([1,1,2,4,11,1,3,1])\n",
    "\n",
    "nar = np.resize(arr,(4,3))\n",
    "print(nar)"
   ]
  },
  {
   "cell_type": "markdown",
   "metadata": {},
   "source": [
    "# Flatten"
   ]
  },
  {
   "cell_type": "code",
   "execution_count": 85,
   "metadata": {},
   "outputs": [],
   "source": [
    "import numpy as np"
   ]
  },
  {
   "cell_type": "code",
   "execution_count": 90,
   "metadata": {},
   "outputs": [
    {
     "name": "stdout",
     "output_type": "stream",
     "text": [
      "[[ 1  2  3  4]\n",
      " [ 5  4 23  4]]\n",
      "[ 1  2  3  4  5  4 23  4]\n",
      "[ 1  5  2  4  3 23  4  4]\n",
      "[ 1  2  3  4  5  4 23  4]\n"
     ]
    }
   ],
   "source": [
    "arr = np.array([[1,2,3,4],[5,4,23,4]])\n",
    "print(arr)\n",
    "print(arr.flatten())\n",
    "print(arr.flatten(order = \"F\"))\n",
    "print(arr.flatten(order = \"C\"))"
   ]
  },
  {
   "cell_type": "markdown",
   "metadata": {},
   "source": [
    "# Ravel"
   ]
  },
  {
   "cell_type": "code",
   "execution_count": 92,
   "metadata": {},
   "outputs": [
    {
     "name": "stdout",
     "output_type": "stream",
     "text": [
      "[ 1  5  2  4  3 23  4  4]\n"
     ]
    }
   ],
   "source": [
    "print(arr.ravel(order = \"F\"))"
   ]
  },
  {
   "cell_type": "markdown",
   "metadata": {},
   "source": [
    "# Insert"
   ]
  },
  {
   "cell_type": "code",
   "execution_count": 93,
   "metadata": {},
   "outputs": [],
   "source": [
    "import numpy as np"
   ]
  },
  {
   "cell_type": "code",
   "execution_count": 94,
   "metadata": {},
   "outputs": [
    {
     "name": "stdout",
     "output_type": "stream",
     "text": [
      "[ 1  1  2  4 11  1  3  1]\n"
     ]
    }
   ],
   "source": [
    "arr = np.array([1,1,2,4,11,1,3,1])\n",
    "print(arr)"
   ]
  },
  {
   "cell_type": "code",
   "execution_count": 99,
   "metadata": {},
   "outputs": [
    {
     "name": "stdout",
     "output_type": "stream",
     "text": [
      "[ 1  3  1  1  2  4 11  6  1  3  1]\n"
     ]
    }
   ],
   "source": [
    "nar = np.insert(arr,[2,5,1],[1,6,3])\n",
    "print(nar)"
   ]
  },
  {
   "cell_type": "code",
   "execution_count": 107,
   "metadata": {},
   "outputs": [
    {
     "name": "stdout",
     "output_type": "stream",
     "text": [
      "[[ 1  2  3]\n",
      " [ 4  5  3]\n",
      " [45 55 31]]\n",
      "[[1 2 6 3]\n",
      " [4 5 6 3]]\n"
     ]
    }
   ],
   "source": [
    "# 2d arrays\n",
    "# axis = 0 (new rom added)\n",
    "# axis = 1 (new column added)\n",
    "\n",
    "var = np.array([[1,2,3],[4,5,3]])\n",
    "\n",
    "nvar = np.insert(var, 2, [45,55,31], axis = 0)\n",
    "print(nvar)\n",
    "\n",
    "nvar = np.insert(var, 2, 6, axis = 1)\n",
    "print(nvar)"
   ]
  },
  {
   "cell_type": "markdown",
   "metadata": {},
   "source": [
    "# Delete"
   ]
  },
  {
   "cell_type": "code",
   "execution_count": 108,
   "metadata": {},
   "outputs": [],
   "source": [
    "import numpy as np"
   ]
  },
  {
   "cell_type": "code",
   "execution_count": 111,
   "metadata": {},
   "outputs": [
    {
     "name": "stdout",
     "output_type": "stream",
     "text": [
      "[array([1]), array([2]), array([3]), array([4]), array([5]), array([], dtype=int32), array([], dtype=int32)]\n"
     ]
    }
   ],
   "source": [
    "arr = np.array([1,1,2,4,11,1,3,1])\n",
    "\n",
    "nar = np.delete(arr, 3)\n",
    "print(ar)"
   ]
  },
  {
   "cell_type": "markdown",
   "metadata": {},
   "source": [
    "# Matrix in numpy"
   ]
  },
  {
   "cell_type": "code",
   "execution_count": 112,
   "metadata": {},
   "outputs": [],
   "source": [
    "import numpy as np"
   ]
  },
  {
   "cell_type": "code",
   "execution_count": 123,
   "metadata": {},
   "outputs": [
    {
     "name": "stdout",
     "output_type": "stream",
     "text": [
      "[[1 2 3]\n",
      " [4 5 6]\n",
      " [7 8 9]]\n",
      "\n",
      "[[ 2  6  6]\n",
      " [16 15  6]\n",
      " [56 24  9]]\n",
      "\n",
      "[[ 34  18   7]\n",
      " [ 76  45  19]\n",
      " [118  72  31]]\n",
      "\n",
      "<class 'numpy.matrix'>\n"
     ]
    }
   ],
   "source": [
    "arr = np.matrix([[1,2,3],[4,5,6],[7,8,9]])\n",
    "arr2 = np.matrix([[2,3,2],[4,3,1],[8,3,1]])\n",
    "print(arr)\n",
    "print()\n",
    "print(np.multiply(arr,arr2))\n",
    "print()\n",
    "print(arr.dot(arr2)) # matrix multiplication)\n",
    "print()\n",
    "print(type(arr))"
   ]
  },
  {
   "cell_type": "code",
   "execution_count": 126,
   "metadata": {},
   "outputs": [
    {
     "name": "stdout",
     "output_type": "stream",
     "text": [
      "[[1 2 3]\n",
      " [4 5 6]\n",
      " [7 8 9]]\n",
      "\n",
      "[[ 2  6  6]\n",
      " [16 15  6]\n",
      " [56 24  9]]\n",
      "\n",
      "[[ 34  18   7]\n",
      " [ 76  45  19]\n",
      " [118  72  31]]\n",
      "<class 'numpy.ndarray'>\n"
     ]
    }
   ],
   "source": [
    "arr = np.array([[1,2,3],[4,5,6],[7,8,9]])\n",
    "arr2 = np.array([[2,3,2],[4,3,1],[8,3,1]])\n",
    "print(arr)\n",
    "print()\n",
    "print(np.multiply(arr,arr2))\n",
    "print()\n",
    "print(arr.dot(arr2)) # matrix multiplication)\n",
    "print(type(arr))"
   ]
  },
  {
   "cell_type": "code",
   "execution_count": null,
   "metadata": {},
   "outputs": [],
   "source": []
  }
 ],
 "metadata": {
  "kernelspec": {
   "display_name": "Python 3 (ipykernel)",
   "language": "python",
   "name": "python3"
  },
  "language_info": {
   "codemirror_mode": {
    "name": "ipython",
    "version": 3
   },
   "file_extension": ".py",
   "mimetype": "text/x-python",
   "name": "python",
   "nbconvert_exporter": "python",
   "pygments_lexer": "ipython3",
   "version": "3.12.1"
  }
 },
 "nbformat": 4,
 "nbformat_minor": 4
}
